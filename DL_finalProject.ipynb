{
 "cells": [
  {
   "cell_type": "code",
   "execution_count": 19,
   "metadata": {},
   "outputs": [],
   "source": [
    "import keras\n",
    "from keras.models import Sequential\n",
    "from keras.layers.core import Dense, Dropout, Activation, Flatten\n",
    "from keras.layers.convolutional import Convolution2D, MaxPooling2D\n",
    "from keras_preprocessing import image\n",
    "\n",
    "from keras_preprocessing.image import ImageDataGenerator\n",
    "import numpy as np\n",
    "import pandas as pd\n",
    "%matplotlib inline\n",
    "\n",
    "import matplotlib.pyplot as plt\n",
    "import matplotlib.image as mpimg\n",
    "from sklearn.metrics import classification_report, confusion_matrix"
   ]
  },
  {
   "cell_type": "code",
   "execution_count": 2,
   "metadata": {},
   "outputs": [],
   "source": [
    "class myCallback(keras.callbacks.Callback):\n",
    "  def on_epoch_end(self, epoch, logs={}):\n",
    "    if(logs.get('accuracy')>0.98):\n",
    "      print(\"\\nReached 97.0% accuracy so cancelling training!\")\n",
    "      self.model.stop_training = True"
   ]
  },
  {
   "cell_type": "code",
   "execution_count": 49,
   "metadata": {},
   "outputs": [
    {
     "name": "stdout",
     "output_type": "stream",
     "text": [
      "Found 2700 images belonging to 3 classes.\n",
      "Found 300 images belonging to 3 classes.\n",
      "Model: \"sequential_8\"\n",
      "_________________________________________________________________\n",
      "Layer (type)                 Output Shape              Param #   \n",
      "=================================================================\n",
      "conv2d_35 (Conv2D)           (None, 148, 148, 64)      1792      \n",
      "_________________________________________________________________\n",
      "max_pooling2d_35 (MaxPooling (None, 74, 74, 64)        0         \n",
      "_________________________________________________________________\n",
      "conv2d_36 (Conv2D)           (None, 72, 72, 64)        36928     \n",
      "_________________________________________________________________\n",
      "max_pooling2d_36 (MaxPooling (None, 36, 36, 64)        0         \n",
      "_________________________________________________________________\n",
      "conv2d_37 (Conv2D)           (None, 34, 34, 128)       73856     \n",
      "_________________________________________________________________\n",
      "max_pooling2d_37 (MaxPooling (None, 17, 17, 128)       0         \n",
      "_________________________________________________________________\n",
      "conv2d_38 (Conv2D)           (None, 15, 15, 128)       147584    \n",
      "_________________________________________________________________\n",
      "max_pooling2d_38 (MaxPooling (None, 7, 7, 128)         0         \n",
      "_________________________________________________________________\n",
      "conv2d_39 (Conv2D)           (None, 6, 6, 256)         131328    \n",
      "_________________________________________________________________\n",
      "max_pooling2d_39 (MaxPooling (None, 3, 3, 256)         0         \n",
      "_________________________________________________________________\n",
      "conv2d_40 (Conv2D)           (None, 2, 2, 256)         262400    \n",
      "_________________________________________________________________\n",
      "max_pooling2d_40 (MaxPooling (None, 1, 1, 256)         0         \n",
      "_________________________________________________________________\n",
      "flatten_8 (Flatten)          (None, 256)               0         \n",
      "_________________________________________________________________\n",
      "dropout_8 (Dropout)          (None, 256)               0         \n",
      "_________________________________________________________________\n",
      "dense_15 (Dense)             (None, 512)               131584    \n",
      "_________________________________________________________________\n",
      "dense_16 (Dense)             (None, 3)                 1539      \n",
      "=================================================================\n",
      "Total params: 787,011\n",
      "Trainable params: 787,011\n",
      "Non-trainable params: 0\n",
      "_________________________________________________________________\n",
      "Epoch 1/20\n",
      "100/100 [==============================] - 645s 6s/step - loss: 0.9628 - accuracy: 0.5042 - val_loss: 0.6447 - val_accuracy: 0.6605\n",
      "Epoch 2/20\n",
      "100/100 [==============================] - 655s 7s/step - loss: 0.6690 - accuracy: 0.7240 - val_loss: 0.4285 - val_accuracy: 0.8661\n",
      "Epoch 3/20\n",
      "100/100 [==============================] - 599s 6s/step - loss: 0.5234 - accuracy: 0.7929 - val_loss: 0.1897 - val_accuracy: 0.8774\n",
      "Epoch 4/20\n",
      "100/100 [==============================] - 596s 6s/step - loss: 0.4403 - accuracy: 0.8340 - val_loss: 0.2955 - val_accuracy: 0.9034\n",
      "Epoch 5/20\n",
      "100/100 [==============================] - 594s 6s/step - loss: 0.3704 - accuracy: 0.8592 - val_loss: 0.1958 - val_accuracy: 0.9264\n",
      "Epoch 6/20\n",
      "100/100 [==============================] - 599s 6s/step - loss: 0.3498 - accuracy: 0.8711 - val_loss: 0.2835 - val_accuracy: 0.9127\n",
      "Epoch 7/20\n",
      "100/100 [==============================] - 597s 6s/step - loss: 0.3071 - accuracy: 0.8839 - val_loss: 0.2070 - val_accuracy: 0.9266\n",
      "Epoch 8/20\n",
      "100/100 [==============================] - 600s 6s/step - loss: 0.2663 - accuracy: 0.9006 - val_loss: 0.2095 - val_accuracy: 0.9232\n",
      "Epoch 9/20\n",
      "100/100 [==============================] - 630s 6s/step - loss: 0.2526 - accuracy: 0.9051 - val_loss: 0.1255 - val_accuracy: 0.9499\n",
      "Epoch 10/20\n",
      "100/100 [==============================] - 700s 7s/step - loss: 0.2420 - accuracy: 0.9127 - val_loss: 0.1065 - val_accuracy: 0.9303\n",
      "Epoch 11/20\n",
      "100/100 [==============================] - 667s 7s/step - loss: 0.2109 - accuracy: 0.9244 - val_loss: 0.1357 - val_accuracy: 0.9497\n",
      "Epoch 12/20\n",
      "100/100 [==============================] - 807s 8s/step - loss: 0.2015 - accuracy: 0.9241 - val_loss: 0.0401 - val_accuracy: 0.9698\n",
      "Epoch 13/20\n",
      "100/100 [==============================] - 859s 9s/step - loss: 0.2017 - accuracy: 0.9257 - val_loss: 0.1462 - val_accuracy: 0.9638\n",
      "Epoch 14/20\n",
      "100/100 [==============================] - 750s 7s/step - loss: 0.1829 - accuracy: 0.9325 - val_loss: 0.1283 - val_accuracy: 0.9495\n",
      "Epoch 15/20\n",
      "100/100 [==============================] - 747s 7s/step - loss: 0.1792 - accuracy: 0.9339 - val_loss: 0.0510 - val_accuracy: 0.9495\n",
      "Epoch 16/20\n",
      "100/100 [==============================] - 749s 7s/step - loss: 0.1606 - accuracy: 0.9414 - val_loss: 0.0749 - val_accuracy: 0.9630\n",
      "Epoch 17/20\n",
      "100/100 [==============================] - 769s 8s/step - loss: 0.1634 - accuracy: 0.9387 - val_loss: 0.2229 - val_accuracy: 0.9302\n",
      "Epoch 18/20\n",
      "100/100 [==============================] - 681s 7s/step - loss: 0.1558 - accuracy: 0.9430 - val_loss: 0.0662 - val_accuracy: 0.9538\n",
      "Epoch 19/20\n",
      "100/100 [==============================] - 627s 6s/step - loss: 0.1403 - accuracy: 0.9492 - val_loss: 0.0786 - val_accuracy: 0.9766\n",
      "Epoch 20/20\n",
      "100/100 [==============================] - 596s 6s/step - loss: 0.1331 - accuracy: 0.9518 - val_loss: 0.1267 - val_accuracy: 0.9401\n"
     ]
    }
   ],
   "source": [
    "TRAINING_DIR = './img/train/'\n",
    "training_datagen = ImageDataGenerator(\n",
    "      rescale = 1./255,\n",
    "\t    rotation_range=40,\n",
    "      width_shift_range=0.2,\n",
    "      height_shift_range=0.2,\n",
    "      shear_range=0.2,\n",
    "      zoom_range=0.2,\n",
    "      horizontal_flip=True,\n",
    "      brightness_range = [0.2,1.0],\n",
    "      fill_mode='nearest')\n",
    "VALIDATION_DIR = './img/val/'\n",
    "validation_datagen = ImageDataGenerator(rescale = 1./255)\n",
    "\n",
    "train_generator = training_datagen.flow_from_directory(\n",
    "\tTRAINING_DIR,\n",
    "\ttarget_size=(150,150),\n",
    "\tclass_mode='categorical',\n",
    "  batch_size=126\n",
    ")\n",
    "\n",
    "validation_generator = validation_datagen.flow_from_directory(\n",
    "\tVALIDATION_DIR,\n",
    "\ttarget_size=(150,150),\n",
    "\tclass_mode='categorical',\n",
    "  batch_size=126\n",
    ")\n",
    "\n",
    "model = keras.models.Sequential([\n",
    "    # Note the input shape is the desired size of the image 150x150 with 3 bytes color\n",
    "    # This is the first convolution\n",
    "    keras.layers.Conv2D(64, (3,3), activation='relu', input_shape=(150, 150, 3)),\n",
    "    keras.layers.MaxPooling2D(2, 2),\n",
    "    # The second convolution\n",
    "    keras.layers.Conv2D(64, (3,3), activation='relu'),\n",
    "    keras.layers.MaxPooling2D(2,2),\n",
    "    # The third convolution\n",
    "    keras.layers.Conv2D(128, (3,3), activation='relu'),\n",
    "    keras.layers.MaxPooling2D(2,2),\n",
    "    # The fourth convolution\n",
    "    keras.layers.Conv2D(128, (3,3), activation='relu'),\n",
    "    keras.layers.MaxPooling2D(2,2),\n",
    "    # The fifth convolution\n",
    "    keras.layers.Conv2D(256, (2,2), activation='relu'),\n",
    "    keras.layers.MaxPooling2D(2,2),\n",
    "    # The sixth convolution\n",
    "    keras.layers.Conv2D(256, (2,2), activation='relu'),\n",
    "    keras.layers.MaxPooling2D(2,2),\n",
    "    # Flatten the results to feed into a DNN\n",
    "    keras.layers.Flatten(),\n",
    "    keras.layers.Dropout(0.5),\n",
    "    # 512 neuron hidden layer\n",
    "    keras.layers.Dense(512, activation='relu'),\n",
    "    keras.layers.Dense(3, activation='softmax')\n",
    "])\n",
    "\n",
    "\n",
    "model.summary()\n",
    "\n",
    "model.compile(loss = 'categorical_crossentropy', optimizer='adam', metrics=['accuracy'])\n",
    "\n",
    "history = model.fit(train_generator, epochs=20, steps_per_epoch=100, validation_data = validation_generator, verbose = 1, validation_steps=50, callbacks = [myCallback()])\n",
    "\n",
    "model.save(\"chairmodel.h5\")"
   ]
  },
  {
   "cell_type": "code",
   "execution_count": 50,
   "metadata": {},
   "outputs": [
    {
     "data": {
      "image/png": "[encoded data removed]",
      "text/plain": [
       "<Figure size 432x288 with 1 Axes>"
      ]
     },
     "metadata": {
      "needs_background": "light"
     },
     "output_type": "display_data"
    },
    {
     "data": {
      "text/plain": [
       "<Figure size 432x288 with 0 Axes>"
      ]
     },
     "metadata": {},
     "output_type": "display_data"
    },
    {
     "data": {
      "image/png": "[encoded data removed]",
      "text/plain": [
       "<Figure size 432x288 with 1 Axes>"
      ]
     },
     "metadata": {
      "needs_background": "light"
     },
     "output_type": "display_data"
    },
    {
     "data": {
      "text/plain": [
       "<Figure size 432x288 with 0 Axes>"
      ]
     },
     "metadata": {},
     "output_type": "display_data"
    }
   ],
   "source": [
    "acc = history.history['accuracy']\n",
    "val_acc = history.history['val_accuracy']\n",
    "loss = history.history['loss']\n",
    "val_loss = history.history['val_loss']\n",
    "\n",
    "epochs = range(len(acc))\n",
    "\n",
    "plt.plot(epochs, acc, 'r', label='Training accuracy')\n",
    "plt.plot(epochs, val_acc, 'b', label='Validation accuracy')\n",
    "plt.title('Training and validation accuracy')\n",
    "plt.legend(loc=0)\n",
    "plt.figure()\n",
    "\n",
    "\n",
    "plt.show()\n",
    "plt.plot(epochs, loss, 'r', label='Training Loss')\n",
    "plt.plot(epochs, val_loss, 'b', label='Validation Loss')\n",
    "plt.title('Training and validation Loss')\n",
    "plt.legend(loc=0)\n",
    "plt.figure()\n",
    "\n",
    "\n",
    "plt.show()"
   ]
  },
  {
   "cell_type": "code",
   "execution_count": 51,
   "metadata": {},
   "outputs": [],
   "source": [
    "np.save('model_history.npy', history.history)\n",
    "# history = np.load('model_history.npy', allow_pickle = 'TRUE').item()"
   ]
  },
  {
   "cell_type": "code",
   "execution_count": 32,
   "metadata": {},
   "outputs": [],
   "source": [
    "loaded_model = keras.models.load_model('chairmodel.h5')"
   ]
  },
  {
   "cell_type": "code",
   "execution_count": 33,
   "metadata": {},
   "outputs": [
    {
     "name": "stdout",
     "output_type": "stream",
     "text": [
      "[[0. 0. 1.]]\n"
     ]
    }
   ],
   "source": [
    "path = './swivel_chair.jpg'\n",
    "img = image.load_img(path, target_size=(150, 150))\n",
    "x = image.img_to_array(img)\n",
    "x = np.expand_dims(x, axis=0)\n",
    "\n",
    "# images = np.vstack([x])\n",
    "classes = loaded_model.predict(x)\n",
    "print(classes)"
   ]
  },
  {
   "cell_type": "code",
   "execution_count": 7,
   "metadata": {},
   "outputs": [
    {
     "name": "stdout",
     "output_type": "stream",
     "text": [
      "[name: \"/device:CPU:0\"\n",
      "device_type: \"CPU\"\n",
      "memory_limit: 268435456\n",
      "locality {\n",
      "}\n",
      "incarnation: 3632729426476400804\n",
      ", name: \"/device:XLA_CPU:0\"\n",
      "device_type: \"XLA_CPU\"\n",
      "memory_limit: 17179869184\n",
      "locality {\n",
      "}\n",
      "incarnation: 17130957797228819598\n",
      "physical_device_desc: \"device: XLA_CPU device\"\n",
      ", name: \"/device:XLA_GPU:0\"\n",
      "device_type: \"XLA_GPU\"\n",
      "memory_limit: 17179869184\n",
      "locality {\n",
      "}\n",
      "incarnation: 16621303720368214271\n",
      "physical_device_desc: \"device: XLA_GPU device\"\n",
      "]\n"
     ]
    }
   ],
   "source": [
    "from tensorflow.python.client import device_lib\n",
    "print(device_lib.list_local_devices())"
   ]
  },
  {
   "cell_type": "code",
   "execution_count": 53,
   "metadata": {},
   "outputs": [
    {
     "data": {
      "image/png": "[encoded data removed]",
      "text/plain": [
       "<Figure size 576x576 with 2 Axes>"
      ]
     },
     "metadata": {
      "needs_background": "light"
     },
     "output_type": "display_data"
    }
   ],
   "source": [
    "y_pred = loaded_model.predict(validation_generator)\n",
    "# print(y_pred)\n",
    "y_pred = np.argmax(y_pred, axis=1)\n",
    "# print('Confusion Matrix')\n",
    "\n",
    "# print('Classification Report')\n",
    "# target_names = ['Chair', 'Sofa', 'Swivelchair']\n",
    "# print(classification_report(validation_generator.classes, y_pred, target_names=target_names))\n",
    "con_mat = confusion_matrix(validation_generator.classes, y_pred)\n",
    "con_mat_norm = np.around(con_mat.astype('float') / con_mat.sum(axis=1)[:, np.newaxis], decimals=2)\n",
    " \n",
    "con_mat_df = pd.DataFrame(con_mat_norm,\n",
    "                     index = ['Chair', 'Sofa', 'Swivelchair'], \n",
    "                     columns = ['Chair', 'Sofa', 'Swivelchair'])\n",
    "figure = plt.figure(figsize=(8, 8))\n",
    "sns.heatmap(con_mat_df, annot=True,cmap=plt.cm.Blues)\n",
    "plt.tight_layout()\n",
    "plt.ylabel('True label')\n",
    "plt.xlabel('Predicted label')\n",
    "plt.show()"
   ]
  },
  {
   "cell_type": "code",
   "execution_count": 40,
   "metadata": {},
   "outputs": [],
   "source": [
    "import tensorflow as tf\n",
    "import seaborn as sns"
   ]
  },
  {
   "cell_type": "code",
   "execution_count": 48,
   "metadata": {},
   "outputs": [
    {
     "name": "stdout",
     "output_type": "stream",
     "text": [
      "[[305 306 289]\n",
      " [313 313 274]\n",
      " [308 305 287]]\n"
     ]
    }
   ],
   "source": [
    "print(confusion_matrix(train_generator.classes, y_pred))"
   ]
  },
  {
   "cell_type": "code",
   "execution_count": 52,
   "metadata": {},
   "outputs": [
    {
     "name": "stdout",
     "output_type": "stream",
     "text": [
      "Found 300 images belonging to 3 classes.\n"
     ]
    }
   ],
   "source": [
    "validation_generator = validation_datagen.flow_from_directory(\n",
    "\tVALIDATION_DIR,\n",
    "\ttarget_size=(150,150),\n",
    "\tclass_mode='categorical',\n",
    "  batch_size=126,\n",
    "    shuffle=False\n",
    ")"
   ]
  },
  {
   "cell_type": "code",
   "execution_count": null,
   "metadata": {},
   "outputs": [],
   "source": []
  }
 ],
 "metadata": {
  "kernelspec": {
   "display_name": "Python 3",
   "language": "python",
   "name": "python3"
  },
  "language_info": {
   "codemirror_mode": {
    "name": "ipython",
    "version": 3
   },
   "file_extension": ".py",
   "mimetype": "text/x-python",
   "name": "python",
   "nbconvert_exporter": "python",
   "pygments_lexer": "ipython3",
   "version": "3.6.8"
  }
 },
 "nbformat": 4,
 "nbformat_minor": 2
}